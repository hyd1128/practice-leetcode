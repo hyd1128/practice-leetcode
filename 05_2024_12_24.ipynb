{
 "cells": [
  {
   "cell_type": "markdown",
   "source": [
    "## 螺旋矩阵"
   ],
   "metadata": {
    "collapsed": false
   },
   "id": "ac8550254906f65"
  },
  {
   "cell_type": "code",
   "execution_count": 5,
   "outputs": [],
   "source": [
    "from typing import List\n",
    "\n",
    "\n",
    "class Solution:\n",
    "    def generateMatrix(self, n: int) -> List[List[int]]:\n",
    "        nums = [[0] * n for _ in range(n)]\n",
    "        startx, starty = 0, 0  # 起始点\n",
    "        loop, mid = n // 2, n // 2  # 迭代次数、n为奇数时，矩阵的中心点\n",
    "        count = 1  # 计数\n",
    "\n",
    "        for offset in range(1, loop + 1):  # 每循环一层偏移量加1，偏移量从1开始\n",
    "            for i in range(starty, n - offset):  # 从左至右，左闭右开\n",
    "                nums[startx][i] = count\n",
    "                count += 1\n",
    "            for i in range(startx, n - offset):  # 从上至下\n",
    "                nums[i][n - offset] = count\n",
    "                count += 1\n",
    "            for i in range(n - offset, starty, -1):  # 从右至左\n",
    "                nums[n - offset][i] = count\n",
    "                count += 1\n",
    "            for i in range(n - offset, startx, -1):  # 从下至上\n",
    "                nums[i][starty] = count\n",
    "                count += 1\n",
    "            startx += 1  # 更新起始点\n",
    "            starty += 1\n",
    "\n",
    "        if n % 2 != 0:  # n为奇数时，填充中心点\n",
    "            nums[mid][mid] = count\n",
    "        return nums\n"
   ],
   "metadata": {
    "collapsed": false,
    "ExecuteTime": {
     "end_time": "2024-12-29T12:34:54.445256600Z",
     "start_time": "2024-12-29T12:34:54.427718200Z"
    }
   },
   "id": "bdab6b4de6fc2cff"
  },
  {
   "cell_type": "code",
   "execution_count": null,
   "outputs": [],
   "source": [],
   "metadata": {
    "collapsed": false
   },
   "id": "ade9843f956d8968"
  }
 ],
 "metadata": {
  "kernelspec": {
   "display_name": "Python 3",
   "language": "python",
   "name": "python3"
  },
  "language_info": {
   "codemirror_mode": {
    "name": "ipython",
    "version": 2
   },
   "file_extension": ".py",
   "mimetype": "text/x-python",
   "name": "python",
   "nbconvert_exporter": "python",
   "pygments_lexer": "ipython2",
   "version": "2.7.6"
  }
 },
 "nbformat": 4,
 "nbformat_minor": 5
}

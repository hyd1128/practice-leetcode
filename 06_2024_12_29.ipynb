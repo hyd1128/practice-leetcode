{
 "cells": [
  {
   "cell_type": "code",
   "execution_count": 2,
   "id": "187c01fb1820a3e",
   "metadata": {
    "collapsed": true,
    "ExecuteTime": {
     "end_time": "2024-12-29T12:42:48.842276400Z",
     "start_time": "2024-12-29T12:42:48.822540200Z"
    }
   },
   "outputs": [],
   "source": [
    "# 移除链表元素\n",
    "# Definition for singly-linked list."
   ]
  },
  {
   "cell_type": "code",
   "execution_count": 3,
   "outputs": [],
   "source": [
    "class ListNode:\n",
    "    def __init__(self, val=0, next=None):\n",
    "        self.val = val\n",
    "        self.next = next"
   ],
   "metadata": {
    "collapsed": false,
    "ExecuteTime": {
     "end_time": "2024-12-29T12:42:49.755986700Z",
     "start_time": "2024-12-29T12:42:49.747275500Z"
    }
   },
   "id": "7f542ff62e87cd3b"
  },
  {
   "cell_type": "code",
   "execution_count": null,
   "outputs": [],
   "source": [],
   "metadata": {
    "collapsed": false
   },
   "id": "5de04153aec7e459"
  },
  {
   "cell_type": "code",
   "execution_count": 12,
   "outputs": [],
   "source": [
    "from typing import Optional\n",
    "\n",
    "\n",
    "class Solution:\n",
    "    def removeElements(self, head: Optional[ListNode], val: int) -> Optional[ListNode]:\n",
    "        # 创建虚拟头部节点简化删除过程\n",
    "        dummy_head = ListNode(next=head)\n",
    "        # 遍历列表并删除值为val的节点\n",
    "        current = dummy_head\n",
    "        while current.next:\n",
    "            if current.next.val == val:\n",
    "                current.next = current.next.next\n",
    "            else:\n",
    "                current = current.next\n",
    "        return dummy_head.next\n",
    "\n"
   ],
   "metadata": {
    "collapsed": false,
    "ExecuteTime": {
     "end_time": "2024-12-29T13:03:43.914173500Z",
     "start_time": "2024-12-29T13:03:43.900407400Z"
    }
   },
   "id": "initial_id"
  },
  {
   "cell_type": "code",
   "execution_count": 11,
   "outputs": [],
   "source": [],
   "metadata": {
    "collapsed": false,
    "ExecuteTime": {
     "end_time": "2024-12-29T12:57:42.611090800Z",
     "start_time": "2024-12-29T12:57:42.606849900Z"
    }
   },
   "id": "46f2c550c29e5f6b"
  }
 ],
 "metadata": {
  "kernelspec": {
   "display_name": "Python 3",
   "language": "python",
   "name": "python3"
  },
  "language_info": {
   "codemirror_mode": {
    "name": "ipython",
    "version": 2
   },
   "file_extension": ".py",
   "mimetype": "text/x-python",
   "name": "python",
   "nbconvert_exporter": "python",
   "pygments_lexer": "ipython2",
   "version": "2.7.6"
  }
 },
 "nbformat": 4,
 "nbformat_minor": 5
}
